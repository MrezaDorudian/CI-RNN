{
  "nbformat": 4,
  "nbformat_minor": 0,
  "metadata": {
    "colab": {
      "name": "CI-RNN.ipynb",
      "provenance": [],
      "collapsed_sections": [
        "fEEamnRMqvk2",
        "DJY8DTYPsXK1",
        "4XdYJhk6qAmU",
        "3NtpWxmwqqof",
        "IftTvms8tEx3",
        "06x-_riffDXh",
        "S1aqcD12fzXh",
        "7gR21de7hgOi",
        "38VK-R5liGML",
        "BlLAd_FwiJm1",
        "yHcOtyrYiMiv",
        "4HYDubqMkI8e",
        "MBMnBAw8kKTp"
      ]
    },
    "kernelspec": {
      "name": "python3",
      "display_name": "Python 3"
    },
    "language_info": {
      "name": "python"
    },
    "accelerator": "GPU"
  },
  "cells": [
    {
      "cell_type": "markdown",
      "source": [
        "# Imports\n"
      ],
      "metadata": {
        "id": "fEEamnRMqvk2"
      }
    },
    {
      "cell_type": "code",
      "source": [
        "from google.colab import drive\n",
        "import numpy as np\n",
        "import pandas as pd\n",
        "import matplotlib.pyplot as plt\n",
        "from keras.models import Sequential\n",
        "from keras.layers import GRU, Dropout, Dense\n",
        "from sklearn.preprocessing import MinMaxScaler"
      ],
      "metadata": {
        "id": "6Mcx1MpuqwDP"
      },
      "execution_count": null,
      "outputs": []
    },
    {
      "cell_type": "markdown",
      "source": [
        "# Constants"
      ],
      "metadata": {
        "id": "DJY8DTYPsXK1"
      }
    },
    {
      "cell_type": "code",
      "source": [
        "TRAIN_TEST_RATIO = 0.7\n",
        "TIME_STEP = 30\n",
        "SCALE = MinMaxScaler(feature_range = (0, 1))"
      ],
      "metadata": {
        "id": "GQSwwtdWsX7N"
      },
      "execution_count": null,
      "outputs": []
    },
    {
      "cell_type": "markdown",
      "source": [
        "# Data Preprocess\n",
        "- load & fetch targeted data\n",
        "- prepare datasets\n",
        "- prepare training data\n",
        "- prepare test data\n",
        "\n"
      ],
      "metadata": {
        "id": "4XdYJhk6qAmU"
      }
    },
    {
      "cell_type": "markdown",
      "source": [
        "### load & fetch targeted data"
      ],
      "metadata": {
        "id": "3NtpWxmwqqof"
      }
    },
    {
      "cell_type": "code",
      "source": [
        "drive.mount('/content/drive')\n",
        "with open('drive/MyDrive/BTC-USD.csv', 'r') as data_file:\n",
        "    df = pd.read_csv(data_file)\n",
        "    print(df.head(5))\n",
        "    closing_prices = df['Close'].values\n",
        "    plt.plot(closing_prices)\n",
        "    plt.show()"
      ],
      "metadata": {
        "colab": {
          "base_uri": "https://localhost:8080/",
          "height": 521
        },
        "id": "_IRlTn9ZpJ70",
        "outputId": "15a13b41-1a2f-48f1-98fb-c055da2e65d4"
      },
      "execution_count": null,
      "outputs": [
        {
          "output_type": "stream",
          "name": "stdout",
          "text": [
            "Mounted at /content/drive\n",
            "        Date        Open        High         Low       Close   Adj Close  \\\n",
            "0  9/17/2014  465.864014  468.174011  452.421997  457.334015  457.334015   \n",
            "1  9/18/2014  456.859985  456.859985  413.104004  424.440002  424.440002   \n",
            "2  9/19/2014  424.102997  427.834991  384.532013  394.795990  394.795990   \n",
            "3  9/20/2014  394.673004  423.295990  389.882996  408.903992  408.903992   \n",
            "4  9/21/2014  408.084991  412.425995  393.181000  398.821014  398.821014   \n",
            "\n",
            "       Volume  \n",
            "0  21056800.0  \n",
            "1  34483200.0  \n",
            "2  37919700.0  \n",
            "3  36863600.0  \n",
            "4  26580100.0  \n"
          ]
        },
        {
          "output_type": "display_data",
          "data": {
            "image/png": "[encoded data removed]",
            "text/plain": [
              "<Figure size 432x288 with 1 Axes>"
            ]
          },
          "metadata": {
            "needs_background": "light"
          }
        }
      ]
    },
    {
      "cell_type": "markdown",
      "source": [
        "### prepare datasets"
      ],
      "metadata": {
        "id": "IftTvms8tEx3"
      }
    },
    {
      "cell_type": "code",
      "source": [
        "total_dataset = closing_prices.reshape(-1, 1)\n",
        "training_set = total_dataset[:int(len(closing_prices) * TRAIN_TEST_RATIO)]\n",
        "test_set = total_dataset[int(len(closing_prices) * TRAIN_TEST_RATIO):]"
      ],
      "metadata": {
        "id": "8grZ9pU8tF4n"
      },
      "execution_count": null,
      "outputs": []
    },
    {
      "cell_type": "markdown",
      "source": [
        "### prepare training data"
      ],
      "metadata": {
        "id": "06x-_riffDXh"
      }
    },
    {
      "cell_type": "code",
      "source": [
        "training_set_scaled = SCALE.fit_transform(training_set)\n",
        "\n",
        "x_train = []\n",
        "y_train = []\n",
        "\n",
        "for i in range(TIME_STEP, len(training_set_scaled)):\n",
        "    x_train.append(training_set_scaled[i - TIME_STEP:i, 0])\n",
        "    y_train.append(training_set_scaled[i:i + 1, 0])\n",
        "    \n",
        "x_train, y_train = np.array(x_train), np.array(y_train)\n",
        "x_train = np.reshape(x_train, (x_train.shape[0], x_train.shape[1], 1))"
      ],
      "metadata": {
        "id": "MQSb0l64vOP2"
      },
      "execution_count": null,
      "outputs": []
    },
    {
      "cell_type": "markdown",
      "source": [
        "### prepare test data"
      ],
      "metadata": {
        "id": "S1aqcD12fzXh"
      }
    },
    {
      "cell_type": "code",
      "source": [
        "model_test_set = total_dataset[len(total_dataset) - len(test_set) - TIME_STEP:]\n",
        "model_test_set_scaled = SCALE.fit_transform(model_test_set)\n",
        "\n",
        "x_test = []\n",
        "for i in range(TIME_STEP, len(model_test_set_scaled)):\n",
        "    x_test.append(model_test_set_scaled[i - TIME_STEP:i, 0])\n",
        "\n",
        "x_test = np.array(x_test)\n",
        "x_test = np.reshape(x_test, (x_test.shape[0], x_test.shape[1], 1))\n"
      ],
      "metadata": {
        "id": "ct-sYdCtw8h0"
      },
      "execution_count": null,
      "outputs": []
    },
    {
      "cell_type": "markdown",
      "source": [
        "# Train model\n",
        "- build & compile model\n",
        "- train model"
      ],
      "metadata": {
        "id": "7gR21de7hgOi"
      }
    },
    {
      "cell_type": "markdown",
      "source": [
        "### build & compile model"
      ],
      "metadata": {
        "id": "38VK-R5liGML"
      }
    },
    {
      "cell_type": "code",
      "source": [
        "model = Sequential([\n",
        "  GRU(TIME_STEP, return_sequences=True, input_shape=(x_train.shape[1], 1)),\n",
        "  Dropout(0.20),\n",
        "  GRU(TIME_STEP * 2, return_sequences=True),\n",
        "  Dropout(0.20),\n",
        "  GRU(TIME_STEP * 2, return_sequences=True),\n",
        "  Dropout(0.20),\n",
        "  GRU(TIME_STEP),\n",
        "  Dropout(0.20),\n",
        "  Dense(1)\n",
        "])\n",
        "\n",
        "model.compile(optimizer = 'sgd', loss = 'mean_squared_error')\n",
        "model.summary()"
      ],
      "metadata": {
        "id": "uZ10jkAF0hd2",
        "colab": {
          "base_uri": "https://localhost:8080/"
        },
        "outputId": "36453a86-4435-489a-b593-e0fc3c1fd560"
      },
      "execution_count": null,
      "outputs": [
        {
          "output_type": "stream",
          "name": "stdout",
          "text": [
            "Model: \"sequential_2\"\n",
            "_________________________________________________________________\n",
            " Layer (type)                Output Shape              Param #   \n",
            "=================================================================\n",
            " gru_8 (GRU)                 (None, 30, 30)            2970      \n",
            "                                                                 \n",
            " dropout_8 (Dropout)         (None, 30, 30)            0         \n",
            "                                                                 \n",
            " gru_9 (GRU)                 (None, 30, 60)            16560     \n",
            "                                                                 \n",
            " dropout_9 (Dropout)         (None, 30, 60)            0         \n",
            "                                                                 \n",
            " gru_10 (GRU)                (None, 30, 60)            21960     \n",
            "                                                                 \n",
            " dropout_10 (Dropout)        (None, 30, 60)            0         \n",
            "                                                                 \n",
            " gru_11 (GRU)                (None, 30)                8280      \n",
            "                                                                 \n",
            " dropout_11 (Dropout)        (None, 30)                0         \n",
            "                                                                 \n",
            " dense_2 (Dense)             (None, 1)                 31        \n",
            "                                                                 \n",
            "=================================================================\n",
            "Total params: 49,801\n",
            "Trainable params: 49,801\n",
            "Non-trainable params: 0\n",
            "_________________________________________________________________\n"
          ]
        }
      ]
    },
    {
      "cell_type": "markdown",
      "source": [
        "### train model"
      ],
      "metadata": {
        "id": "BlLAd_FwiJm1"
      }
    },
    {
      "cell_type": "code",
      "source": [
        "history = model.fit(x_train, y_train, epochs = 20, batch_size = 32, validation_split=0.3, verbose=1)"
      ],
      "metadata": {
        "id": "D_Zsocev0nG4",
        "colab": {
          "base_uri": "https://localhost:8080/"
        },
        "outputId": "87135cf3-643a-420e-b081-cb3b84892b2c"
      },
      "execution_count": null,
      "outputs": [
        {
          "output_type": "stream",
          "name": "stdout",
          "text": [
            "Epoch 1/20\n",
            "41/41 [==============================] - 9s 74ms/step - loss: 0.0304 - val_loss: 0.0478\n",
            "Epoch 2/20\n",
            "41/41 [==============================] - 2s 38ms/step - loss: 0.0262 - val_loss: 0.0367\n",
            "Epoch 3/20\n",
            "41/41 [==============================] - 2s 38ms/step - loss: 0.0231 - val_loss: 0.0377\n",
            "Epoch 4/20\n",
            "41/41 [==============================] - 2s 38ms/step - loss: 0.0209 - val_loss: 0.0338\n",
            "Epoch 5/20\n",
            "41/41 [==============================] - 2s 38ms/step - loss: 0.0175 - val_loss: 0.0229\n",
            "Epoch 6/20\n",
            "41/41 [==============================] - 2s 38ms/step - loss: 0.0148 - val_loss: 0.0199\n",
            "Epoch 7/20\n",
            "41/41 [==============================] - 2s 38ms/step - loss: 0.0122 - val_loss: 0.0176\n",
            "Epoch 8/20\n",
            "41/41 [==============================] - 2s 38ms/step - loss: 0.0093 - val_loss: 0.0126\n",
            "Epoch 9/20\n",
            "41/41 [==============================] - 2s 38ms/step - loss: 0.0071 - val_loss: 0.0082\n",
            "Epoch 10/20\n",
            "41/41 [==============================] - 2s 38ms/step - loss: 0.0054 - val_loss: 0.0070\n",
            "Epoch 11/20\n",
            "41/41 [==============================] - 2s 38ms/step - loss: 0.0044 - val_loss: 0.0052\n",
            "Epoch 12/20\n",
            "41/41 [==============================] - 2s 38ms/step - loss: 0.0037 - val_loss: 0.0032\n",
            "Epoch 13/20\n",
            "41/41 [==============================] - 2s 37ms/step - loss: 0.0036 - val_loss: 0.0025\n",
            "Epoch 14/20\n",
            "41/41 [==============================] - 2s 38ms/step - loss: 0.0025 - val_loss: 0.0015\n",
            "Epoch 15/20\n",
            "41/41 [==============================] - 2s 38ms/step - loss: 0.0029 - val_loss: 0.0011\n",
            "Epoch 16/20\n",
            "41/41 [==============================] - 2s 37ms/step - loss: 0.0026 - val_loss: 0.0010\n",
            "Epoch 17/20\n",
            "41/41 [==============================] - 2s 38ms/step - loss: 0.0023 - val_loss: 9.8746e-04\n",
            "Epoch 18/20\n",
            "41/41 [==============================] - 2s 38ms/step - loss: 0.0023 - val_loss: 0.0010\n",
            "Epoch 19/20\n",
            "41/41 [==============================] - 2s 38ms/step - loss: 0.0023 - val_loss: 8.8967e-04\n",
            "Epoch 20/20\n",
            "41/41 [==============================] - 2s 37ms/step - loss: 0.0022 - val_loss: 8.9497e-04\n"
          ]
        }
      ]
    },
    {
      "cell_type": "markdown",
      "source": [
        "# Make Prediction\n",
        "- predict\n",
        "- visualize"
      ],
      "metadata": {
        "id": "yHcOtyrYiMiv"
      }
    },
    {
      "cell_type": "markdown",
      "source": [
        "### predict"
      ],
      "metadata": {
        "id": "4HYDubqMkI8e"
      }
    },
    {
      "cell_type": "code",
      "source": [
        "predicted_stock_price = model.predict(x_test)\n",
        "predicted_stock_price = SCALE.inverse_transform(predicted_stock_price)"
      ],
      "metadata": {
        "id": "E0hkS4mG7IGx"
      },
      "execution_count": null,
      "outputs": []
    },
    {
      "cell_type": "markdown",
      "source": [
        "### visualize"
      ],
      "metadata": {
        "id": "MBMnBAw8kKTp"
      }
    },
    {
      "cell_type": "code",
      "source": [
        "plt.plot(test_set, color = \"red\", label = \"actual price\")\n",
        "plt.plot(predicted_stock_price, color = \"blue\", label = \"predicted price\")\n",
        "plt.title('BTC Price Prediction')\n",
        "plt.xlabel('Time')\n",
        "plt.ylabel('BTC Price')\n",
        "plt.legend()\n",
        "plt.show()"
      ],
      "metadata": {
        "colab": {
          "base_uri": "https://localhost:8080/",
          "height": 295
        },
        "id": "FGcQmBU17woK",
        "outputId": "57ab7a99-7f13-48df-ca67-eda1d9333614"
      },
      "execution_count": null,
      "outputs": [
        {
          "output_type": "display_data",
          "data": {
            "image/png": "[encoded data removed]",
            "text/plain": [
              "<Figure size 432x288 with 1 Axes>"
            ]
          },
          "metadata": {
            "needs_background": "light"
          }
        }
      ]
    },
    {
      "cell_type": "markdown",
      "source": [
        "# Resources\n",
        "- Historical data\n",
        " - [Forex data](https://eatradingacademy.com/software/forex-historical-data/)\n",
        " - [Yahoo finance](https://finance.yahoo.com/)\n",
        "- RNN tutorial\n",
        " - [Recurrent Neural Networks Stanford University (recommended)](https://www.youtube.com/watch?v=6niqTuYFZLQ)\n",
        " - [شبکه عصبی LSTM](https://howsam.org/lstm-neural-network)\n",
        " - [Understanding LSTM Networks](http://colah.github.io/posts/2015-08-Understanding-LSTMs/)\n",
        " - [Build a Recurrent Neural Network from Scratch in Python](https://www.analyticsvidhya.com/blog/2019/01/fundamentals-deep-learning-recurrent-neural-networks-scratch-python/)\n",
        "- Stock market prediction\n",
        " - [Deep Learning-Based Stock Price Prediction Using LSTM and Bi-Directional LSTM Model](https://www.researchgate.net/publication/347044815_Deep_Learning-Based_Stock_Price_Prediction_Using_LSTM_and_Bi-Directional_LSTM_Model)\n",
        " - [Predicting Stock Prices with LSTMs: One Mistake Everyone Makes](https://www.youtube.com/watch?v=Vfx1L2jh2Ng)\n",
        " - [LSTM time series forecasting](https://towardsdatascience.com/lstm-time-series-forecasting-predicting-stock-prices-using-an-lstm-model-6223e9644a2f)\n",
        "- General\n",
        " - [TensorFlow 2 quickstart for beginners\n",
        "](https://www.tensorflow.org/tutorials/quickstart/beginner)\n",
        " - [TensorFlow 2.0 Complete Course](https://www.youtube.com/watch?v=tPYj3fFJGjk)\n",
        " - [Is your model overfitting? Or maybe underfitting?](https://towardsdatascience.com/is-your-model-overfitting-or-maybe-underfitting-an-example-using-a-neural-network-in-python-4faf155398d2)\n",
        " - [Hyper-Parameter Tuning](https://scikit-learn.org/stable/modules/grid_search.html)"
      ],
      "metadata": {
        "id": "MdO6QxVJYCq5"
      }
    }
  ]
}